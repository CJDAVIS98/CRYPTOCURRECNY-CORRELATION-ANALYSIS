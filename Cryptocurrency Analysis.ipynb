{
 "cells": [
  {
   "cell_type": "markdown",
   "id": "ea57f472",
   "metadata": {},
   "source": [
    "# CRYPTOCURRENCY ANALYSIS: BITCOIN v. ETHEREUM"
   ]
  },
  {
   "cell_type": "markdown",
   "id": "1e8cb996",
   "metadata": {},
   "source": [
    "#### DATASET 1 WEB SCRAPING COINGECKO"
   ]
  },
  {
   "cell_type": "code",
   "execution_count": 1,
   "id": "cd6cccc3",
   "metadata": {},
   "outputs": [
    {
     "name": "stdout",
     "output_type": "stream",
     "text": [
      "Processing page 1\n"
     ]
    }
   ],
   "source": [
    "import requests\n",
    "from bs4 import BeautifulSoup \n",
    "import pandas as pd\n",
    "import sys\n",
    "\n",
    "#SCRAPE 24HR CRYPTO PRICES FROM COINGECKO\n",
    "base_url = \"https://www.coingecko.com/\"\n",
    "response = requests.get(base_url)\n",
    "soup = BeautifulSoup(response.content, 'html.parser')\n",
    "    \n",
    "HEADERS = {\n",
    "    'User-Agent':'Mozilla/5.0 (Windows NT 10.0; Win64; rv:87.0) Gecko/20100101 Firefox/12.0'   \n",
    "}\n",
    "\n",
    "#ITERATE FROM PAGE 1 OF COINGECKO\n",
    "for i in range(1,2):\n",
    "    print('Processing page {0}'.format(i))\n",
    "    params = {\n",
    "        'page':i\n",
    "    }\n",
    "\n",
    "#SCRAPE URL VIA COMMAND LINE\n",
    "\n",
    "#SCRAPE TABLE FROM COINGECKO \n",
    "df = pd.DataFrame(pd.read_html(str(soup))[0])\n",
    "pd.read_html(str(soup))[0]\n",
    "\n",
    "#DELETE NULL COLUMNS \n",
    "df.drop(df.columns[[0,3]], axis=1, inplace=True)\n",
    "df = df.drop(['Last 7 Days'], axis=1)"
   ]
  },
  {
   "cell_type": "code",
   "execution_count": 2,
   "id": "a0b306c1",
   "metadata": {},
   "outputs": [
    {
     "data": {
      "text/html": [
       "<div>\n",
       "<style scoped>\n",
       "    .dataframe tbody tr th:only-of-type {\n",
       "        vertical-align: middle;\n",
       "    }\n",
       "\n",
       "    .dataframe tbody tr th {\n",
       "        vertical-align: top;\n",
       "    }\n",
       "\n",
       "    .dataframe thead th {\n",
       "        text-align: right;\n",
       "    }\n",
       "</style>\n",
       "<table border=\"1\" class=\"dataframe\">\n",
       "  <thead>\n",
       "    <tr style=\"text-align: right;\">\n",
       "      <th></th>\n",
       "      <th>#</th>\n",
       "      <th>Coin</th>\n",
       "      <th>Price</th>\n",
       "      <th>1h</th>\n",
       "      <th>24h</th>\n",
       "      <th>7d</th>\n",
       "      <th>24h Volume</th>\n",
       "      <th>Mkt Cap</th>\n",
       "    </tr>\n",
       "  </thead>\n",
       "  <tbody>\n",
       "    <tr>\n",
       "      <th>0</th>\n",
       "      <td>1</td>\n",
       "      <td>Bitcoin  BTC  BTC</td>\n",
       "      <td>$27,890.58</td>\n",
       "      <td>-0.2%</td>\n",
       "      <td>-12.5%</td>\n",
       "      <td>-29.7%</td>\n",
       "      <td>$77,520,861,431</td>\n",
       "      <td>$530,974,674,748</td>\n",
       "    </tr>\n",
       "    <tr>\n",
       "      <th>1</th>\n",
       "      <td>2</td>\n",
       "      <td>Ethereum  ETH  ETH</td>\n",
       "      <td>$1,905.67</td>\n",
       "      <td>0.4%</td>\n",
       "      <td>-21.6%</td>\n",
       "      <td>-35.2%</td>\n",
       "      <td>$55,045,721,732</td>\n",
       "      <td>$230,791,710,885</td>\n",
       "    </tr>\n",
       "    <tr>\n",
       "      <th>2</th>\n",
       "      <td>3</td>\n",
       "      <td>Tether  USDT  USDT</td>\n",
       "      <td>$0.994604</td>\n",
       "      <td>-0.2%</td>\n",
       "      <td>-0.8%</td>\n",
       "      <td>-0.5%</td>\n",
       "      <td>$172,554,234,614</td>\n",
       "      <td>$82,570,659,233</td>\n",
       "    </tr>\n",
       "    <tr>\n",
       "      <th>3</th>\n",
       "      <td>4</td>\n",
       "      <td>USD Coin  USDC  USDC</td>\n",
       "      <td>$1.01</td>\n",
       "      <td>-0.3%</td>\n",
       "      <td>1.3%</td>\n",
       "      <td>1.2%</td>\n",
       "      <td>$26,997,087,703</td>\n",
       "      <td>$49,563,448,284</td>\n",
       "    </tr>\n",
       "    <tr>\n",
       "      <th>4</th>\n",
       "      <td>5</td>\n",
       "      <td>BNB  BNB  BNB</td>\n",
       "      <td>$252.36</td>\n",
       "      <td>0.5%</td>\n",
       "      <td>-19.6%</td>\n",
       "      <td>-37.3%</td>\n",
       "      <td>$5,716,359,710</td>\n",
       "      <td>$42,452,059,566</td>\n",
       "    </tr>\n",
       "    <tr>\n",
       "      <th>5</th>\n",
       "      <td>6</td>\n",
       "      <td>XRP  XRP  XRP</td>\n",
       "      <td>$0.374500</td>\n",
       "      <td>0.9%</td>\n",
       "      <td>-27.3%</td>\n",
       "      <td>-42.2%</td>\n",
       "      <td>$6,771,713,642</td>\n",
       "      <td>$18,175,477,550</td>\n",
       "    </tr>\n",
       "    <tr>\n",
       "      <th>6</th>\n",
       "      <td>7</td>\n",
       "      <td>Binance USD  BUSD  BUSD</td>\n",
       "      <td>$1.01</td>\n",
       "      <td>-0.7%</td>\n",
       "      <td>0.4%</td>\n",
       "      <td>1.1%</td>\n",
       "      <td>$23,874,355,600</td>\n",
       "      <td>$16,987,863,772</td>\n",
       "    </tr>\n",
       "    <tr>\n",
       "      <th>7</th>\n",
       "      <td>8</td>\n",
       "      <td>Cardano  ADA  ADA</td>\n",
       "      <td>$0.438689</td>\n",
       "      <td>0.4%</td>\n",
       "      <td>-33.0%</td>\n",
       "      <td>-51.0%</td>\n",
       "      <td>$3,092,027,337</td>\n",
       "      <td>$14,910,239,392</td>\n",
       "    </tr>\n",
       "    <tr>\n",
       "      <th>8</th>\n",
       "      <td>9</td>\n",
       "      <td>Solana  SOL  SOL</td>\n",
       "      <td>$42.11</td>\n",
       "      <td>-3.7%</td>\n",
       "      <td>-35.9%</td>\n",
       "      <td>-54.6%</td>\n",
       "      <td>$4,962,952,284</td>\n",
       "      <td>$14,301,201,071</td>\n",
       "    </tr>\n",
       "    <tr>\n",
       "      <th>9</th>\n",
       "      <td>10</td>\n",
       "      <td>Dogecoin  DOGE  DOGE</td>\n",
       "      <td>$0.075227611915</td>\n",
       "      <td>-1.2%</td>\n",
       "      <td>-30.5%</td>\n",
       "      <td>-44.7%</td>\n",
       "      <td>$2,858,660,227</td>\n",
       "      <td>$10,041,613,275</td>\n",
       "    </tr>\n",
       "  </tbody>\n",
       "</table>\n",
       "</div>"
      ],
      "text/plain": [
       "    #                     Coin            Price     1h     24h      7d  \\\n",
       "0   1        Bitcoin  BTC  BTC       $27,890.58  -0.2%  -12.5%  -29.7%   \n",
       "1   2       Ethereum  ETH  ETH        $1,905.67   0.4%  -21.6%  -35.2%   \n",
       "2   3       Tether  USDT  USDT        $0.994604  -0.2%   -0.8%   -0.5%   \n",
       "3   4     USD Coin  USDC  USDC            $1.01  -0.3%    1.3%    1.2%   \n",
       "4   5            BNB  BNB  BNB          $252.36   0.5%  -19.6%  -37.3%   \n",
       "5   6            XRP  XRP  XRP        $0.374500   0.9%  -27.3%  -42.2%   \n",
       "6   7  Binance USD  BUSD  BUSD            $1.01  -0.7%    0.4%    1.1%   \n",
       "7   8        Cardano  ADA  ADA        $0.438689   0.4%  -33.0%  -51.0%   \n",
       "8   9         Solana  SOL  SOL           $42.11  -3.7%  -35.9%  -54.6%   \n",
       "9  10     Dogecoin  DOGE  DOGE  $0.075227611915  -1.2%  -30.5%  -44.7%   \n",
       "\n",
       "         24h Volume           Mkt Cap  \n",
       "0   $77,520,861,431  $530,974,674,748  \n",
       "1   $55,045,721,732  $230,791,710,885  \n",
       "2  $172,554,234,614   $82,570,659,233  \n",
       "3   $26,997,087,703   $49,563,448,284  \n",
       "4    $5,716,359,710   $42,452,059,566  \n",
       "5    $6,771,713,642   $18,175,477,550  \n",
       "6   $23,874,355,600   $16,987,863,772  \n",
       "7    $3,092,027,337   $14,910,239,392  \n",
       "8    $4,962,952,284   $14,301,201,071  \n",
       "9    $2,858,660,227   $10,041,613,275  "
      ]
     },
     "execution_count": 2,
     "metadata": {},
     "output_type": "execute_result"
    }
   ],
   "source": [
    "#HIGHLIGHT CURRENT TOP 100 COINS\n",
    "df.head(10)"
   ]
  },
  {
   "cell_type": "code",
   "execution_count": 3,
   "id": "9a18a139",
   "metadata": {},
   "outputs": [
    {
     "name": "stderr",
     "output_type": "stream",
     "text": [
      "C:\\Users\\13103\\anaconda3\\lib\\site-packages\\pandas\\core\\indexing.py:1732: SettingWithCopyWarning: \n",
      "A value is trying to be set on a copy of a slice from a DataFrame\n",
      "\n",
      "See the caveats in the documentation: https://pandas.pydata.org/pandas-docs/stable/user_guide/indexing.html#returning-a-view-versus-a-copy\n",
      "  self._setitem_single_block(indexer, value, name)\n"
     ]
    },
    {
     "data": {
      "text/html": [
       "<div>\n",
       "<style scoped>\n",
       "    .dataframe tbody tr th:only-of-type {\n",
       "        vertical-align: middle;\n",
       "    }\n",
       "\n",
       "    .dataframe tbody tr th {\n",
       "        vertical-align: top;\n",
       "    }\n",
       "\n",
       "    .dataframe thead th {\n",
       "        text-align: right;\n",
       "    }\n",
       "</style>\n",
       "<table border=\"1\" class=\"dataframe\">\n",
       "  <thead>\n",
       "    <tr style=\"text-align: right;\">\n",
       "      <th></th>\n",
       "      <th>#</th>\n",
       "      <th>Coin</th>\n",
       "      <th>Price</th>\n",
       "      <th>1h</th>\n",
       "      <th>24h</th>\n",
       "      <th>7d</th>\n",
       "      <th>24h Volume</th>\n",
       "      <th>Mkt Cap</th>\n",
       "    </tr>\n",
       "  </thead>\n",
       "  <tbody>\n",
       "    <tr>\n",
       "      <th>0</th>\n",
       "      <td>1</td>\n",
       "      <td>BTC</td>\n",
       "      <td>$27,890.58</td>\n",
       "      <td>-0.2%</td>\n",
       "      <td>-12.5%</td>\n",
       "      <td>-29.7%</td>\n",
       "      <td>$77,520,861,431</td>\n",
       "      <td>$530,974,674,748</td>\n",
       "    </tr>\n",
       "    <tr>\n",
       "      <th>1</th>\n",
       "      <td>2</td>\n",
       "      <td>ETH</td>\n",
       "      <td>$1,905.67</td>\n",
       "      <td>0.4%</td>\n",
       "      <td>-21.6%</td>\n",
       "      <td>-35.2%</td>\n",
       "      <td>$55,045,721,732</td>\n",
       "      <td>$230,791,710,885</td>\n",
       "    </tr>\n",
       "    <tr>\n",
       "      <th>2</th>\n",
       "      <td>3</td>\n",
       "      <td>USDT</td>\n",
       "      <td>$0.994604</td>\n",
       "      <td>-0.2%</td>\n",
       "      <td>-0.8%</td>\n",
       "      <td>-0.5%</td>\n",
       "      <td>$172,554,234,614</td>\n",
       "      <td>$82,570,659,233</td>\n",
       "    </tr>\n",
       "    <tr>\n",
       "      <th>3</th>\n",
       "      <td>4</td>\n",
       "      <td>USDC</td>\n",
       "      <td>$1.01</td>\n",
       "      <td>-0.3%</td>\n",
       "      <td>1.3%</td>\n",
       "      <td>1.2%</td>\n",
       "      <td>$26,997,087,703</td>\n",
       "      <td>$49,563,448,284</td>\n",
       "    </tr>\n",
       "    <tr>\n",
       "      <th>4</th>\n",
       "      <td>5</td>\n",
       "      <td>BNB</td>\n",
       "      <td>$252.36</td>\n",
       "      <td>0.5%</td>\n",
       "      <td>-19.6%</td>\n",
       "      <td>-37.3%</td>\n",
       "      <td>$5,716,359,710</td>\n",
       "      <td>$42,452,059,566</td>\n",
       "    </tr>\n",
       "    <tr>\n",
       "      <th>5</th>\n",
       "      <td>6</td>\n",
       "      <td>XRP</td>\n",
       "      <td>$0.374500</td>\n",
       "      <td>0.9%</td>\n",
       "      <td>-27.3%</td>\n",
       "      <td>-42.2%</td>\n",
       "      <td>$6,771,713,642</td>\n",
       "      <td>$18,175,477,550</td>\n",
       "    </tr>\n",
       "    <tr>\n",
       "      <th>6</th>\n",
       "      <td>7</td>\n",
       "      <td>ADA</td>\n",
       "      <td>$1.01</td>\n",
       "      <td>-0.7%</td>\n",
       "      <td>0.4%</td>\n",
       "      <td>1.1%</td>\n",
       "      <td>$23,874,355,600</td>\n",
       "      <td>$16,987,863,772</td>\n",
       "    </tr>\n",
       "    <tr>\n",
       "      <th>7</th>\n",
       "      <td>8</td>\n",
       "      <td>BUSD</td>\n",
       "      <td>$0.438689</td>\n",
       "      <td>0.4%</td>\n",
       "      <td>-33.0%</td>\n",
       "      <td>-51.0%</td>\n",
       "      <td>$3,092,027,337</td>\n",
       "      <td>$14,910,239,392</td>\n",
       "    </tr>\n",
       "    <tr>\n",
       "      <th>8</th>\n",
       "      <td>9</td>\n",
       "      <td>SOL</td>\n",
       "      <td>$42.11</td>\n",
       "      <td>-3.7%</td>\n",
       "      <td>-35.9%</td>\n",
       "      <td>-54.6%</td>\n",
       "      <td>$4,962,952,284</td>\n",
       "      <td>$14,301,201,071</td>\n",
       "    </tr>\n",
       "    <tr>\n",
       "      <th>9</th>\n",
       "      <td>10</td>\n",
       "      <td>DOGE</td>\n",
       "      <td>$0.075227611915</td>\n",
       "      <td>-1.2%</td>\n",
       "      <td>-30.5%</td>\n",
       "      <td>-44.7%</td>\n",
       "      <td>$2,858,660,227</td>\n",
       "      <td>$10,041,613,275</td>\n",
       "    </tr>\n",
       "  </tbody>\n",
       "</table>\n",
       "</div>"
      ],
      "text/plain": [
       "    #  Coin            Price     1h     24h      7d        24h Volume  \\\n",
       "0   1   BTC       $27,890.58  -0.2%  -12.5%  -29.7%   $77,520,861,431   \n",
       "1   2   ETH        $1,905.67   0.4%  -21.6%  -35.2%   $55,045,721,732   \n",
       "2   3  USDT        $0.994604  -0.2%   -0.8%   -0.5%  $172,554,234,614   \n",
       "3   4  USDC            $1.01  -0.3%    1.3%    1.2%   $26,997,087,703   \n",
       "4   5   BNB          $252.36   0.5%  -19.6%  -37.3%    $5,716,359,710   \n",
       "5   6   XRP        $0.374500   0.9%  -27.3%  -42.2%    $6,771,713,642   \n",
       "6   7   ADA            $1.01  -0.7%    0.4%    1.1%   $23,874,355,600   \n",
       "7   8  BUSD        $0.438689   0.4%  -33.0%  -51.0%    $3,092,027,337   \n",
       "8   9   SOL           $42.11  -3.7%  -35.9%  -54.6%    $4,962,952,284   \n",
       "9  10  DOGE  $0.075227611915  -1.2%  -30.5%  -44.7%    $2,858,660,227   \n",
       "\n",
       "            Mkt Cap  \n",
       "0  $530,974,674,748  \n",
       "1  $230,791,710,885  \n",
       "2   $82,570,659,233  \n",
       "3   $49,563,448,284  \n",
       "4   $42,452,059,566  \n",
       "5   $18,175,477,550  \n",
       "6   $16,987,863,772  \n",
       "7   $14,910,239,392  \n",
       "8   $14,301,201,071  \n",
       "9   $10,041,613,275  "
      ]
     },
     "execution_count": 3,
     "metadata": {},
     "output_type": "execute_result"
    }
   ],
   "source": [
    "df['Coin'].iloc[0] = 'BTC'\n",
    "df['Coin'].iloc[1] = 'ETH'\n",
    "df['Coin'].iloc[2] = 'USDT'\n",
    "df['Coin'].iloc[3] = 'USDC'\n",
    "df['Coin'].iloc[4] = 'BNB'\n",
    "df['Coin'].iloc[5] = 'XRP'\n",
    "df['Coin'].iloc[6] = 'ADA'\n",
    "df['Coin'].iloc[7] = 'BUSD'\n",
    "df['Coin'].iloc[8] = 'SOL'\n",
    "df['Coin'].iloc[9] = 'DOGE'\n",
    "df.head(10)"
   ]
  },
  {
   "cell_type": "code",
   "execution_count": 4,
   "id": "7f29c551",
   "metadata": {},
   "outputs": [],
   "source": [
    "df['1h'] = df['1h'].str[:-1].astype(float)\n",
    "# df['1h'] = df['1h'].apply(lambda x: float(x.split()[0].replace('%', '')))"
   ]
  },
  {
   "cell_type": "code",
   "execution_count": 5,
   "id": "d31bb6da",
   "metadata": {
    "scrolled": true
   },
   "outputs": [
    {
     "data": {
      "text/plain": [
       "<AxesSubplot:xlabel='Coin'>"
      ]
     },
     "execution_count": 5,
     "metadata": {},
     "output_type": "execute_result"
    },
    {
     "data": {
      "image/png": "[encoded data removed]",
      "text/plain": [
       "<Figure size 432x288 with 1 Axes>"
      ]
     },
     "metadata": {
      "needs_background": "light"
     },
     "output_type": "display_data"
    }
   ],
   "source": [
    "# PLOT 1H DIFFERENCE BETWEEN PRICE PERCENTAGE OF TOP 3 COINS \n",
    "# import matplotlib.pyplot as plt\n",
    "# plt.figure()\n",
    "# plt.rcParams.update({'font.size': 10}) # must set in top\n",
    "# df['1h'] = df['1h'].apply(lambda x: float(x.split()[0].replace('%', '')))\n",
    "df.iloc[0:5].plot(x='Coin', y='1h', style='o')"
   ]
  },
  {
   "cell_type": "code",
   "execution_count": 6,
   "id": "b6089f25",
   "metadata": {},
   "outputs": [],
   "source": [
    "df['7d'] = df['7d'].str[:-1].astype(float)"
   ]
  },
  {
   "cell_type": "code",
   "execution_count": 7,
   "id": "9a442171",
   "metadata": {},
   "outputs": [
    {
     "data": {
      "text/plain": [
       "<AxesSubplot:xlabel='Coin'>"
      ]
     },
     "execution_count": 7,
     "metadata": {},
     "output_type": "execute_result"
    },
    {
     "data": {
      "image/png": "[encoded data removed]",
      "text/plain": [
       "<Figure size 432x288 with 1 Axes>"
      ]
     },
     "metadata": {
      "needs_background": "light"
     },
     "output_type": "display_data"
    }
   ],
   "source": [
    "#PLOT 7 Day DIFFERENCE BETWEEN PRICE PERCENTAGE OF TOP 3 COINS \n",
    "df.iloc[0:5].plot(x='Coin', y='7d', style='o')"
   ]
  },
  {
   "cell_type": "code",
   "execution_count": 8,
   "id": "e11a93b8",
   "metadata": {},
   "outputs": [],
   "source": [
    "df['24h'] = df['24h'].str[:-1].astype(float)"
   ]
  },
  {
   "cell_type": "code",
   "execution_count": 9,
   "id": "ae2ef273",
   "metadata": {},
   "outputs": [
    {
     "data": {
      "text/plain": [
       "<AxesSubplot:xlabel='Coin'>"
      ]
     },
     "execution_count": 9,
     "metadata": {},
     "output_type": "execute_result"
    },
    {
     "data": {
      "image/png": "[encoded data removed]",
      "text/plain": [
       "<Figure size 432x288 with 1 Axes>"
      ]
     },
     "metadata": {
      "needs_background": "light"
     },
     "output_type": "display_data"
    }
   ],
   "source": [
    "#PLOT 24 HOUR DIFFERENCE BETWEEN PRICE PERCENTAGE OF TOP 3 COINS \n",
    "df.iloc[0:5].plot(x='Coin', y='24h', style='o')"
   ]
  },
  {
   "cell_type": "code",
   "execution_count": 10,
   "id": "34697486",
   "metadata": {},
   "outputs": [],
   "source": [
    "#STORE INTO .CSV FILE \n",
    "#df.to_csv('C:\\\\Users\\\\13103\\\\Downloads\\\\COINBASE_DATA.csv')"
   ]
  },
  {
   "cell_type": "markdown",
   "id": "593e83b9",
   "metadata": {},
   "source": [
    "#### DATASET 2 WEB SCRAPING COIN DESK API"
   ]
  },
  {
   "cell_type": "code",
   "execution_count": 11,
   "id": "c8290e0f",
   "metadata": {},
   "outputs": [
    {
     "name": "stdout",
     "output_type": "stream",
     "text": [
      "1Processing Data\n",
      "1Processing Data\n"
     ]
    },
    {
     "data": {
      "text/html": [
       "<div>\n",
       "<style scoped>\n",
       "    .dataframe tbody tr th:only-of-type {\n",
       "        vertical-align: middle;\n",
       "    }\n",
       "\n",
       "    .dataframe tbody tr th {\n",
       "        vertical-align: top;\n",
       "    }\n",
       "\n",
       "    .dataframe thead th {\n",
       "        text-align: right;\n",
       "    }\n",
       "</style>\n",
       "<table border=\"1\" class=\"dataframe\">\n",
       "  <thead>\n",
       "    <tr style=\"text-align: right;\">\n",
       "      <th></th>\n",
       "      <th>Datetime</th>\n",
       "      <th>Coin</th>\n",
       "      <th>Open</th>\n",
       "      <th>High</th>\n",
       "      <th>Low</th>\n",
       "      <th>Price</th>\n",
       "    </tr>\n",
       "  </thead>\n",
       "  <tbody>\n",
       "    <tr>\n",
       "      <th>0</th>\n",
       "      <td>2021-07-01 00:00:00</td>\n",
       "      <td>BTC</td>\n",
       "      <td>35049.045484</td>\n",
       "      <td>35056.817222</td>\n",
       "      <td>34991.326658</td>\n",
       "      <td>34993.994267</td>\n",
       "    </tr>\n",
       "    <tr>\n",
       "      <th>1</th>\n",
       "      <td>2021-07-01 00:01:00</td>\n",
       "      <td>BTC</td>\n",
       "      <td>34995.349202</td>\n",
       "      <td>35030.583041</td>\n",
       "      <td>34989.167695</td>\n",
       "      <td>34991.266464</td>\n",
       "    </tr>\n",
       "    <tr>\n",
       "      <th>2</th>\n",
       "      <td>2021-07-01 00:02:00</td>\n",
       "      <td>BTC</td>\n",
       "      <td>34991.950939</td>\n",
       "      <td>34994.431719</td>\n",
       "      <td>34929.671801</td>\n",
       "      <td>34952.450112</td>\n",
       "    </tr>\n",
       "    <tr>\n",
       "      <th>3</th>\n",
       "      <td>2021-07-01 00:03:00</td>\n",
       "      <td>BTC</td>\n",
       "      <td>34954.642324</td>\n",
       "      <td>34980.657519</td>\n",
       "      <td>34954.642324</td>\n",
       "      <td>34961.649826</td>\n",
       "    </tr>\n",
       "    <tr>\n",
       "      <th>4</th>\n",
       "      <td>2021-07-01 00:04:00</td>\n",
       "      <td>BTC</td>\n",
       "      <td>34960.350436</td>\n",
       "      <td>34996.245435</td>\n",
       "      <td>34960.350436</td>\n",
       "      <td>34976.586395</td>\n",
       "    </tr>\n",
       "    <tr>\n",
       "      <th>...</th>\n",
       "      <td>...</td>\n",
       "      <td>...</td>\n",
       "      <td>...</td>\n",
       "      <td>...</td>\n",
       "      <td>...</td>\n",
       "      <td>...</td>\n",
       "    </tr>\n",
       "    <tr>\n",
       "      <th>2875</th>\n",
       "      <td>2021-07-01 23:55:00</td>\n",
       "      <td>ETH</td>\n",
       "      <td>2115.487870</td>\n",
       "      <td>2116.022408</td>\n",
       "      <td>2115.060438</td>\n",
       "      <td>2115.626989</td>\n",
       "    </tr>\n",
       "    <tr>\n",
       "      <th>2876</th>\n",
       "      <td>2021-07-01 23:56:00</td>\n",
       "      <td>ETH</td>\n",
       "      <td>2115.634570</td>\n",
       "      <td>2115.634570</td>\n",
       "      <td>2110.692884</td>\n",
       "      <td>2110.885244</td>\n",
       "    </tr>\n",
       "    <tr>\n",
       "      <th>2877</th>\n",
       "      <td>2021-07-01 23:57:00</td>\n",
       "      <td>ETH</td>\n",
       "      <td>2111.087472</td>\n",
       "      <td>2111.089436</td>\n",
       "      <td>2108.026641</td>\n",
       "      <td>2109.508642</td>\n",
       "    </tr>\n",
       "    <tr>\n",
       "      <th>2878</th>\n",
       "      <td>2021-07-01 23:58:00</td>\n",
       "      <td>ETH</td>\n",
       "      <td>2109.780003</td>\n",
       "      <td>2113.666995</td>\n",
       "      <td>2109.780003</td>\n",
       "      <td>2113.329023</td>\n",
       "    </tr>\n",
       "    <tr>\n",
       "      <th>2879</th>\n",
       "      <td>2021-07-01 23:59:00</td>\n",
       "      <td>ETH</td>\n",
       "      <td>2113.209766</td>\n",
       "      <td>2113.209766</td>\n",
       "      <td>2108.454955</td>\n",
       "      <td>2108.454955</td>\n",
       "    </tr>\n",
       "  </tbody>\n",
       "</table>\n",
       "<p>2880 rows × 6 columns</p>\n",
       "</div>"
      ],
      "text/plain": [
       "                Datetime Coin          Open          High           Low  \\\n",
       "0    2021-07-01 00:00:00  BTC  35049.045484  35056.817222  34991.326658   \n",
       "1    2021-07-01 00:01:00  BTC  34995.349202  35030.583041  34989.167695   \n",
       "2    2021-07-01 00:02:00  BTC  34991.950939  34994.431719  34929.671801   \n",
       "3    2021-07-01 00:03:00  BTC  34954.642324  34980.657519  34954.642324   \n",
       "4    2021-07-01 00:04:00  BTC  34960.350436  34996.245435  34960.350436   \n",
       "...                  ...  ...           ...           ...           ...   \n",
       "2875 2021-07-01 23:55:00  ETH   2115.487870   2116.022408   2115.060438   \n",
       "2876 2021-07-01 23:56:00  ETH   2115.634570   2115.634570   2110.692884   \n",
       "2877 2021-07-01 23:57:00  ETH   2111.087472   2111.089436   2108.026641   \n",
       "2878 2021-07-01 23:58:00  ETH   2109.780003   2113.666995   2109.780003   \n",
       "2879 2021-07-01 23:59:00  ETH   2113.209766   2113.209766   2108.454955   \n",
       "\n",
       "             Price  \n",
       "0     34993.994267  \n",
       "1     34991.266464  \n",
       "2     34952.450112  \n",
       "3     34961.649826  \n",
       "4     34976.586395  \n",
       "...            ...  \n",
       "2875   2115.626989  \n",
       "2876   2110.885244  \n",
       "2877   2109.508642  \n",
       "2878   2113.329023  \n",
       "2879   2108.454955  \n",
       "\n",
       "[2880 rows x 6 columns]"
      ]
     },
     "execution_count": 11,
     "metadata": {},
     "output_type": "execute_result"
    }
   ],
   "source": [
    "#IMPORT LIBRARIES\n",
    "import requests\n",
    "import numpy as np\n",
    "import pandas as pd\n",
    "from datetime import datetime\n",
    "from dateutil.relativedelta import relativedelta\n",
    "\n",
    "#COINS ANALYZED IN SCRAPING\n",
    "coin_list = ['BTC','ETH']\n",
    "\n",
    "#DEFINING THE DATAFRAME \n",
    "main_df = pd.DataFrame()\n",
    "\n",
    "for coin in coin_list:\n",
    "    coin_df = pd.DataFrame()\n",
    "    df = pd.DataFrame(index=[0])\n",
    "    \n",
    "    \n",
    "    #DEFINING START-DATE AND END-DATE \n",
    "    datetime_end = datetime(2021, 7, 2, 0, 0)\n",
    "    datetime_check = datetime(2021, 7, 1, 0, 0)\n",
    "    \n",
    "    while len(df) > 0:\n",
    "        if datetime_end == datetime_check:\n",
    "            break\n",
    "        \n",
    "        datetime_start = datetime_end - relativedelta(hours = 12)\n",
    "        \n",
    "       #API USED FOR SCRAPING \n",
    "        url = 'https://production.api.coindesk.com/v2/price/values/'+ coin +'?start_date='+datetime_start.strftime(\"%Y-%m-%dT%H:%M\") + '&end_date=' + datetime_end.strftime(\"%Y-%m-%dT%H:%M\") + '&ohlc=true'\n",
    "        \n",
    "        #USING REQUEST TO FETCH DATA FROM API IN THE JSON FORMAT THEN STORE INTO DATAFRAME\n",
    "        temp_data = requests.get(url).json()\n",
    "        df = pd.DataFrame(temp_data['data']['entries'])\n",
    "        #ADD COIN AND ITERATE BELOW \n",
    "        df.columns = ['Timestamp', 'Open', 'High', 'Low', 'Price']\n",
    "        \n",
    "       #HANDLE MISSING DATA \n",
    "        insert_ids_list = [np.nan]\n",
    "       \n",
    "        #ITERATE\n",
    "        while len(insert_ids_list) > 0:\n",
    "            timestamp_checking = np.array(df['Timestamp'][1:]) - np.array(df['Timestamp'][:-1])\n",
    "            insert_ids_list = np.where(timestamp_checking!= 60000)[0]\n",
    "            if len(insert_ids_list) > 0:\n",
    "                print(str(len(insert_ids_list)) + 'Processing Data')\n",
    "                insert_ids = insert_ids_list[0]\n",
    "                temp_df = df.iloc[insert_ids.repeat(int(timestamp_checking[insert_ids]/60000)-1)].reset_index(drop=True)\n",
    "                temp_df['Timestamp'] = [temp_df['Timestamp'][0] + i*60000 for i in range(1, len(temp_df)+1)]\n",
    "                df = df.loc[:insert_ids].append(temp_df).append(df.loc[insert_ids+1:]).reset_index(drop=True)\n",
    "                insert_ids_list = insert_ids_list[1:]\n",
    "                \n",
    "        \n",
    "        #ADDING DATETIME AND SYMBOL TO DATAFRAME\n",
    "        df = df.drop(['Timestamp'], axis=1)\n",
    "        df['Datetime'] = [datetime_end - relativedelta(minutes=len(df)-i) for i in range(0, len(df))]\n",
    "        coin_df = df.append(coin_df)\n",
    "        datetime_end = datetime_start\n",
    "        \n",
    "    coin_df['Coin'] = coin\n",
    "    main_df = main_df.append(coin_df)\n",
    "\n",
    "#GENERATE DATAFRAME FOR FIRST FIVE ROWS OF BITCOIN AND ETHER\n",
    "main_df = main_df[['Datetime', 'Coin', 'Open', 'High', 'Low', 'Price']].reset_index(drop=True)\n",
    "main_df\n",
    "\n",
    "\n",
    "    "
   ]
  },
  {
   "cell_type": "code",
   "execution_count": 12,
   "id": "c3060fd6",
   "metadata": {},
   "outputs": [],
   "source": [
    "#STORE INTO .CSV FILE\n",
    "#main_df.to_csv('C:\\\\Users\\\\13103\\\\Downloads\\\\CoinDesk_Dataset.csv',header=False)"
   ]
  },
  {
   "cell_type": "code",
   "execution_count": 85,
   "id": "f8b0d5ce",
   "metadata": {},
   "outputs": [
    {
     "ename": "AttributeError",
     "evalue": "'str' object has no attribute '_get_numeric_data'",
     "output_type": "error",
     "traceback": [
      "\u001b[1;31m---------------------------------------------------------------------------\u001b[0m",
      "\u001b[1;31mAttributeError\u001b[0m                            Traceback (most recent call last)",
      "\u001b[1;32m~\\AppData\\Local\\Temp/ipykernel_20196/1724573246.py\u001b[0m in \u001b[0;36m<module>\u001b[1;34m\u001b[0m\n\u001b[1;32m----> 1\u001b[1;33m \u001b[0mmain_df\u001b[0m\u001b[1;33m.\u001b[0m\u001b[0mcorrwith\u001b[0m\u001b[1;33m(\u001b[0m\u001b[1;34m'Price'\u001b[0m\u001b[1;33m)\u001b[0m\u001b[1;33m\u001b[0m\u001b[1;33m\u001b[0m\u001b[0m\n\u001b[0m",
      "\u001b[1;32m~\\anaconda3\\lib\\site-packages\\pandas\\core\\frame.py\u001b[0m in \u001b[0;36mcorrwith\u001b[1;34m(self, other, axis, drop, method)\u001b[0m\n\u001b[0;32m   9571\u001b[0m             \u001b[1;32mreturn\u001b[0m \u001b[0mthis\u001b[0m\u001b[1;33m.\u001b[0m\u001b[0mapply\u001b[0m\u001b[1;33m(\u001b[0m\u001b[1;32mlambda\u001b[0m \u001b[0mx\u001b[0m\u001b[1;33m:\u001b[0m \u001b[0mother\u001b[0m\u001b[1;33m.\u001b[0m\u001b[0mcorr\u001b[0m\u001b[1;33m(\u001b[0m\u001b[0mx\u001b[0m\u001b[1;33m,\u001b[0m \u001b[0mmethod\u001b[0m\u001b[1;33m=\u001b[0m\u001b[0mmethod\u001b[0m\u001b[1;33m)\u001b[0m\u001b[1;33m,\u001b[0m \u001b[0maxis\u001b[0m\u001b[1;33m=\u001b[0m\u001b[0maxis\u001b[0m\u001b[1;33m)\u001b[0m\u001b[1;33m\u001b[0m\u001b[1;33m\u001b[0m\u001b[0m\n\u001b[0;32m   9572\u001b[0m \u001b[1;33m\u001b[0m\u001b[0m\n\u001b[1;32m-> 9573\u001b[1;33m         \u001b[0mother\u001b[0m \u001b[1;33m=\u001b[0m \u001b[0mother\u001b[0m\u001b[1;33m.\u001b[0m\u001b[0m_get_numeric_data\u001b[0m\u001b[1;33m(\u001b[0m\u001b[1;33m)\u001b[0m\u001b[1;33m\u001b[0m\u001b[1;33m\u001b[0m\u001b[0m\n\u001b[0m\u001b[0;32m   9574\u001b[0m         \u001b[0mleft\u001b[0m\u001b[1;33m,\u001b[0m \u001b[0mright\u001b[0m \u001b[1;33m=\u001b[0m \u001b[0mthis\u001b[0m\u001b[1;33m.\u001b[0m\u001b[0malign\u001b[0m\u001b[1;33m(\u001b[0m\u001b[0mother\u001b[0m\u001b[1;33m,\u001b[0m \u001b[0mjoin\u001b[0m\u001b[1;33m=\u001b[0m\u001b[1;34m\"inner\"\u001b[0m\u001b[1;33m,\u001b[0m \u001b[0mcopy\u001b[0m\u001b[1;33m=\u001b[0m\u001b[1;32mFalse\u001b[0m\u001b[1;33m)\u001b[0m\u001b[1;33m\u001b[0m\u001b[1;33m\u001b[0m\u001b[0m\n\u001b[0;32m   9575\u001b[0m \u001b[1;33m\u001b[0m\u001b[0m\n",
      "\u001b[1;31mAttributeError\u001b[0m: 'str' object has no attribute '_get_numeric_data'"
     ]
    }
   ],
   "source": [
    "main_df.corrwith('Price')"
   ]
  },
  {
   "cell_type": "code",
   "execution_count": 13,
   "id": "89d15189",
   "metadata": {},
   "outputs": [
    {
     "data": {
      "text/plain": [
       "<AxesSubplot:title={'center':'Bitcoin price over 1 day'}>"
      ]
     },
     "execution_count": 13,
     "metadata": {},
     "output_type": "execute_result"
    },
    {
     "data": {
      "image/png": "[encoded data removed]",
      "text/plain": [
       "<Figure size 432x288 with 1 Axes>"
      ]
     },
     "metadata": {
      "needs_background": "light"
     },
     "output_type": "display_data"
    }
   ],
   "source": [
    "#PLOT 24 HOUR BITCOIN PRICE\n",
    "main_df_BTC = main_df[['Coin','Price']]\n",
    "rslt_df_BTC = main_df_BTC[main_df_BTC['Coin'] == 'BTC']\n",
    "rslt_df_BTC[['Price']].plot(title='Bitcoin price over 1 day')"
   ]
  },
  {
   "cell_type": "code",
   "execution_count": 14,
   "id": "9d02c123",
   "metadata": {},
   "outputs": [
    {
     "data": {
      "text/plain": [
       "<AxesSubplot:title={'center':'Ethereum price over 1 day'}>"
      ]
     },
     "execution_count": 14,
     "metadata": {},
     "output_type": "execute_result"
    },
    {
     "data": {
      "image/png": "[encoded data removed]",
      "text/plain": [
       "<Figure size 432x288 with 1 Axes>"
      ]
     },
     "metadata": {
      "needs_background": "light"
     },
     "output_type": "display_data"
    }
   ],
   "source": [
    "#PLOT 24 HOUR ETHEREUM PRICE\n",
    "main_df_ETH = main_df[['Coin','Price']]\n",
    "rslt_df_ETH = main_df_ETH[main_df_ETH['Coin'] == 'ETH']\n",
    "rslt_df_ETH[['Price']].plot(title='Ethereum price over 1 day')"
   ]
  },
  {
   "cell_type": "code",
   "execution_count": 87,
   "id": "5098f365",
   "metadata": {},
   "outputs": [
    {
     "name": "stderr",
     "output_type": "stream",
     "text": [
      "C:\\Users\\13103\\anaconda3\\lib\\site-packages\\pandas\\core\\frame.py:5039: SettingWithCopyWarning: \n",
      "A value is trying to be set on a copy of a slice from a DataFrame\n",
      "\n",
      "See the caveats in the documentation: https://pandas.pydata.org/pandas-docs/stable/user_guide/indexing.html#returning-a-view-versus-a-copy\n",
      "  return super().rename(\n"
     ]
    }
   ],
   "source": [
    "#(main_df['Open'].corr(main_df['Price']))\n",
    "main_df_ETH = main_df[['Coin','Price']]\n",
    "rslt_df_ETH = main_df_ETH[main_df_ETH['Coin'] == 'ETH']\n",
    "\n",
    "main_df_BTC = main_df[['Coin','Price']]\n",
    "rslt_df_BTC = main_df_BTC[main_df_BTC['Coin'] == 'BTC']\n",
    "\n",
    "rslt_df_ETH.rename(columns = {'Price':'ETH Price'}, inplace = True)\n",
    "rslt_df_BTC.rename(columns = {'Price':'BTC Price'}, inplace = True)\n",
    "\n",
    "#rslt_df_ETH['Price':'ETH Price'].corr(rslt_df_BTC['Price':'BTC Price'])"
   ]
  },
  {
   "cell_type": "code",
   "execution_count": 16,
   "id": "10bdfc50",
   "metadata": {
    "scrolled": true
   },
   "outputs": [
    {
     "data": {
      "text/plain": [
       "Datetime    2021-07-01 00:00:00\n",
       "Coin                        BTC\n",
       "Open               35049.045484\n",
       "High               35056.817222\n",
       "Low                34991.326658\n",
       "Price              34993.994267\n",
       "Name: 0, dtype: object"
      ]
     },
     "execution_count": 16,
     "metadata": {},
     "output_type": "execute_result"
    }
   ],
   "source": [
    "#BITCOIN PRICE 00:00 = 34993.99\n",
    "main_df.iloc[0]"
   ]
  },
  {
   "cell_type": "code",
   "execution_count": 17,
   "id": "8d97cc91",
   "metadata": {},
   "outputs": [
    {
     "data": {
      "text/plain": [
       "Datetime    2021-07-01 23:59:00\n",
       "Coin                        BTC\n",
       "Open               33566.759399\n",
       "High               33566.759399\n",
       "Low                33516.926378\n",
       "Price              33528.566795\n",
       "Name: 1439, dtype: object"
      ]
     },
     "execution_count": 17,
     "metadata": {},
     "output_type": "execute_result"
    }
   ],
   "source": [
    "#BITCOIN CLOSE PRICE = 33528.57\n",
    "main_df.iloc[1439]"
   ]
  },
  {
   "cell_type": "code",
   "execution_count": 18,
   "id": "1329255c",
   "metadata": {},
   "outputs": [
    {
     "data": {
      "text/plain": [
       "Datetime    2021-07-01 00:00:00\n",
       "Coin                        ETH\n",
       "Open                2275.689004\n",
       "High                2276.012712\n",
       "Low                 2270.817381\n",
       "Price                2271.03933\n",
       "Name: 1440, dtype: object"
      ]
     },
     "execution_count": 18,
     "metadata": {},
     "output_type": "execute_result"
    }
   ],
   "source": [
    "#ETHEREUM PRICE 00:00 = 2271.04\n",
    "main_df.iloc[1440]"
   ]
  },
  {
   "cell_type": "code",
   "execution_count": 19,
   "id": "1eddf9bf",
   "metadata": {},
   "outputs": [
    {
     "data": {
      "text/plain": [
       "Datetime    2021-07-01 23:59:00\n",
       "Coin                        ETH\n",
       "Open                2113.209766\n",
       "High                2113.209766\n",
       "Low                 2108.454955\n",
       "Price               2108.454955\n",
       "Name: 2879, dtype: object"
      ]
     },
     "execution_count": 19,
     "metadata": {},
     "output_type": "execute_result"
    }
   ],
   "source": [
    "#ETHEREUM CLOSE PRICE = 2108.45\n",
    "main_df.iloc[2879]"
   ]
  },
  {
   "cell_type": "markdown",
   "id": "e4486ff2",
   "metadata": {},
   "source": [
    "#### DATASET 3 VOLATILITY INDEX CSV"
   ]
  },
  {
   "cell_type": "code",
   "execution_count": 20,
   "id": "e81a76a9",
   "metadata": {},
   "outputs": [],
   "source": [
    "#VOLATILITY INDEX MEASURES THE PRICE VARIATIONS OF A FINANCIAL INSTRUMENT OVER A SPECIFIED PERIOD OF TIME "
   ]
  },
  {
   "cell_type": "code",
   "execution_count": 86,
   "id": "a0f1134f",
   "metadata": {},
   "outputs": [
    {
     "name": "stdout",
     "output_type": "stream",
     "text": [
      "                    Date  Ethereum Volatility Index\n",
      "0    2020-04-15 00:00:00                     105.48\n",
      "1    2020-04-16 00:00:00                     103.27\n",
      "2    2020-04-17 00:00:00                     102.55\n",
      "3    2020-04-18 00:00:00                      99.87\n",
      "4    2020-04-19 00:00:00                     101.69\n",
      "..                   ...                        ...\n",
      "740  2022-05-06 00:00:00                      69.80\n",
      "741  2022-05-07 00:00:00                      67.93\n",
      "742  2022-05-08 00:00:00                      73.01\n",
      "743  2022-05-09 00:00:00                      82.85\n",
      "744  2022-05-10 00:00:00                      81.75\n",
      "\n",
      "[745 rows x 2 columns]\n"
     ]
    }
   ],
   "source": [
    "#FIND ALL ROWS DATING FROM 07/2021-05/2022\n",
    "#How much has volatility changed from 07/2021-05/2022\n",
    "df = pd.read_csv ('ethervol.csv',usecols=\n",
    "['Date','Ethereum Volatility Index'])\n",
    "print(df)"
   ]
  },
  {
   "cell_type": "code",
   "execution_count": 22,
   "id": "2d1659fc",
   "metadata": {},
   "outputs": [
    {
     "name": "stdout",
     "output_type": "stream",
     "text": [
      "                    Date  Ethereum Volatility Index\n",
      "431  2021-07-01 00:00:00                     116.93\n",
      "432  2021-07-02 00:00:00                     108.97\n",
      "433  2021-07-03 00:00:00                     107.09\n",
      "434  2021-07-04 00:00:00                     103.48\n",
      "435  2021-07-05 00:00:00                     102.80\n",
      "..                   ...                        ...\n",
      "740  2022-05-06 00:00:00                      69.80\n",
      "741  2022-05-07 00:00:00                      67.93\n",
      "742  2022-05-08 00:00:00                      73.01\n",
      "743  2022-05-09 00:00:00                      82.85\n",
      "744  2022-05-10 00:00:00                      81.75\n",
      "\n",
      "[314 rows x 2 columns]\n"
     ]
    }
   ],
   "source": [
    "#FIND ALL ROWS DATING FROM 07/2021-05/2022\n",
    "#FIGURE OUT HOW TO SAVE THIS NEW DATA TO CSV\n",
    "print(df.iloc[431:745])"
   ]
  },
  {
   "cell_type": "code",
   "execution_count": 23,
   "id": "b4cc6283",
   "metadata": {},
   "outputs": [
    {
     "name": "stderr",
     "output_type": "stream",
     "text": [
      "C:\\Users\\13103\\anaconda3\\lib\\site-packages\\pandas\\core\\indexing.py:1732: SettingWithCopyWarning: \n",
      "A value is trying to be set on a copy of a slice from a DataFrame\n",
      "\n",
      "See the caveats in the documentation: https://pandas.pydata.org/pandas-docs/stable/user_guide/indexing.html#returning-a-view-versus-a-copy\n",
      "  self._setitem_single_block(indexer, value, name)\n"
     ]
    }
   ],
   "source": [
    "# PLOTTING VOLATILITY ON 10 DAY PERIOD LEADING TO 24 HOUR ANALYSIS FROM 2021 API \n",
    "df['Date'].iloc[424] = '6/22'\n",
    "df['Date'].iloc[425] = '6/23'\n",
    "df['Date'].iloc[426] = '6/24'\n",
    "df['Date'].iloc[427] = '6/25'\n",
    "df['Date'].iloc[428] = '6/26'\n",
    "df['Date'].iloc[429] = '6/27'\n",
    "df['Date'].iloc[430] = '6/28'\n",
    "df['Date'].iloc[431] = '6/29'\n",
    "df['Date'].iloc[432] = '6/30'\n",
    "df['Date'].iloc[433] = '7/1'\n",
    "df['Date'].iloc[434] = '7/2'"
   ]
  },
  {
   "cell_type": "code",
   "execution_count": 24,
   "id": "61889a95",
   "metadata": {},
   "outputs": [
    {
     "data": {
      "text/plain": [
       "<AxesSubplot:xlabel='Date'>"
      ]
     },
     "execution_count": 24,
     "metadata": {},
     "output_type": "execute_result"
    },
    {
     "data": {
      "text/plain": [
       "<Figure size 432x288 with 0 Axes>"
      ]
     },
     "metadata": {},
     "output_type": "display_data"
    },
    {
     "data": {
      "image/png": "[encoded data removed]",
      "text/plain": [
       "<Figure size 432x288 with 1 Axes>"
      ]
     },
     "metadata": {
      "needs_background": "light"
     },
     "output_type": "display_data"
    }
   ],
   "source": [
    "import matplotlib.pyplot as plt\n",
    "plt.figure()\n",
    "plt.rcParams.update({'font.size': 10})\n",
    "df.iloc[424:435].plot(x = 'Date')"
   ]
  },
  {
   "cell_type": "code",
   "execution_count": 25,
   "id": "7414c777",
   "metadata": {},
   "outputs": [
    {
     "name": "stderr",
     "output_type": "stream",
     "text": [
      "C:\\Users\\13103\\anaconda3\\lib\\site-packages\\pandas\\core\\indexing.py:1732: SettingWithCopyWarning: \n",
      "A value is trying to be set on a copy of a slice from a DataFrame\n",
      "\n",
      "See the caveats in the documentation: https://pandas.pydata.org/pandas-docs/stable/user_guide/indexing.html#returning-a-view-versus-a-copy\n",
      "  self._setitem_single_block(indexer, value, name)\n"
     ]
    }
   ],
   "source": [
    "#PLOTTING VOLATILITY ON 10 DAY PERIOD LEADING TO 24 HOUR ANALYSIS FROM 2022 WEBSCRAPED DATA \n",
    "df['Date'].iloc[734] = '4/28'\n",
    "df['Date'].iloc[735] = '4/29'\n",
    "df['Date'].iloc[736] = '4/30'\n",
    "df['Date'].iloc[737] = '5/1'\n",
    "df['Date'].iloc[738] = '5/2'\n",
    "df['Date'].iloc[739] = '5/3'\n",
    "df['Date'].iloc[740] = '5/4'\n",
    "df['Date'].iloc[741] = '5/5'\n",
    "df['Date'].iloc[742] = '5/6'\n",
    "df['Date'].iloc[743] = '5/7'\n",
    "df['Date'].iloc[744] = '5/8'"
   ]
  },
  {
   "cell_type": "code",
   "execution_count": 26,
   "id": "1ec33f7f",
   "metadata": {},
   "outputs": [
    {
     "data": {
      "text/plain": [
       "<AxesSubplot:xlabel='Date'>"
      ]
     },
     "execution_count": 26,
     "metadata": {},
     "output_type": "execute_result"
    },
    {
     "data": {
      "text/plain": [
       "<Figure size 432x288 with 0 Axes>"
      ]
     },
     "metadata": {},
     "output_type": "display_data"
    },
    {
     "data": {
      "image/png": "[encoded data removed]",
      "text/plain": [
       "<Figure size 432x288 with 1 Axes>"
      ]
     },
     "metadata": {
      "needs_background": "light"
     },
     "output_type": "display_data"
    }
   ],
   "source": [
    "import matplotlib.pyplot as plt\n",
    "plt.figure()\n",
    "plt.rcParams.update({'font.size': 10})\n",
    "df.iloc[734:750].plot(x = 'Date')"
   ]
  },
  {
   "cell_type": "code",
   "execution_count": 82,
   "id": "59ca447b",
   "metadata": {},
   "outputs": [
    {
     "name": "stdout",
     "output_type": "stream",
     "text": [
      "Date                            7/2\n",
      "Ethereum Volatility Index    103.48\n",
      "Name: 434, dtype: object\n"
     ]
    }
   ],
   "source": [
    "#VOLATILITY INDEX FOR 2021\n",
    "print(df.iloc[434])"
   ]
  },
  {
   "cell_type": "code",
   "execution_count": 28,
   "id": "fee39297",
   "metadata": {},
   "outputs": [
    {
     "name": "stdout",
     "output_type": "stream",
     "text": [
      "Date                           5/8\n",
      "Ethereum Volatility Index    81.75\n",
      "Name: 744, dtype: object\n"
     ]
    }
   ],
   "source": [
    "#VOLATILITY INDEX FOR 2022\n",
    "print(df.iloc[744])"
   ]
  }
 ],
 "metadata": {
  "kernelspec": {
   "display_name": "Python 3 (ipykernel)",
   "language": "python",
   "name": "python3"
  },
  "language_info": {
   "codemirror_mode": {
    "name": "ipython",
    "version": 3
   },
   "file_extension": ".py",
   "mimetype": "text/x-python",
   "name": "python",
   "nbconvert_exporter": "python",
   "pygments_lexer": "ipython3",
   "version": "3.9.7"
  }
 },
 "nbformat": 4,
 "nbformat_minor": 5
}
